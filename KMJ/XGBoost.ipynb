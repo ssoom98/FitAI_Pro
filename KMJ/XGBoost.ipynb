{
 "cells": [
  {
   "cell_type": "code",
   "execution_count": 10,
   "id": "85ef3512-01e1-4915-8f6a-ec73543cbfd4",
   "metadata": {},
   "outputs": [],
   "source": [
    "import pandas as pd\n",
    "import xgboost as xgb\n",
    "from sklearn.model_selection import train_test_split\n",
    "from sklearn.preprocessing import LabelEncoder\n",
    "from sklearn.metrics import mean_absolute_error\n",
    "from sklearn.model_selection import GridSearchCV\n",
    "import joblib"
   ]
  },
  {
   "cell_type": "code",
   "execution_count": 44,
   "id": "f215f2db-35d7-4e9c-b01f-e99a599119d9",
   "metadata": {},
   "outputs": [
    {
     "name": "stdout",
     "output_type": "stream",
     "text": [
      "Fitting 5 folds for each of 30 candidates, totalling 150 fits\n",
      "최적의 하이퍼파라미터: {'subsample': 1.0, 'n_estimators': 100, 'max_depth': 2, 'learning_rate': 0.03}\n",
      "최적 모델 학습 완료! 평균 절대 오차 (MAE): 243.75\n"
     ]
    }
   ],
   "source": [
    "from sklearn.model_selection import RandomizedSearchCV\n",
    "\n",
    "param_grid = {\n",
    "    \"learning_rate\": [0.005, 0.01, 0.03, 0.05, 0.1, 0.2],  \n",
    "    \"max_depth\": [2, 3, 4, 5, 6],  \n",
    "    \"n_estimators\": [100, 200, 300, 500, 700, 1000],  \n",
    "    \"subsample\": [0.5, 0.6, 0.7, 0.8, 0.9, 1.0]\n",
    "}\n",
    "\n",
    "\n",
    "xgb_model = xgb.XGBRegressor(objective=\"reg:squarederror\")\n",
    "\n",
    "# RandomizedSearchCV 실행 (30개 조합 랜덤 샘플링, 5-Fold 교차검증)\n",
    "random_search = RandomizedSearchCV(\n",
    "    xgb_model, param_grid, n_iter=30, scoring=\"neg_mean_absolute_error\",\n",
    "    cv=5, verbose=1, n_jobs=-1, random_state=42\n",
    ")\n",
    "\n",
    "random_search.fit(X_train, y_train)\n",
    "\n",
    "# 최적의 하이퍼파라미터 출력\n",
    "best_params = random_search.best_params_\n",
    "print(f\"최적의 하이퍼파라미터: {best_params}\")\n",
    "\n",
    "# 최적의 파라미터로 다시 학습\n",
    "best_model = xgb.XGBRegressor(objective=\"reg:squarederror\", **best_params)\n",
    "best_model.fit(X_train, y_train)\n",
    "\n",
    "# 예측 및 평가\n",
    "y_pred = best_model.predict(X_test)\n",
    "mae = mean_absolute_error(y_test, y_pred)\n",
    "print(f\"최적 모델 학습 완료! 평균 절대 오차 (MAE): {mae:.2f}\")"
   ]
  },
  {
   "cell_type": "code",
   "execution_count": 45,
   "id": "6d08d152-cea3-482b-8c4f-a0033fe953bc",
   "metadata": {},
   "outputs": [
    {
     "name": "stdout",
     "output_type": "stream",
     "text": [
      "최적 모델 학습 완료! 평균 절대 오차 (MAE): 243.75\n"
     ]
    },
    {
     "data": {
      "text/plain": [
       "['xgboost_meal_plan_best.pkl']"
      ]
     },
     "execution_count": 45,
     "metadata": {},
     "output_type": "execute_result"
    }
   ],
   "source": [
    "from sklearn.model_selection import GridSearchCV\n",
    "import xgboost as xgb\n",
    "import joblib\n",
    "from sklearn.metrics import mean_absolute_error\n",
    "import pandas as pd\n",
    "from sklearn.preprocessing import LabelEncoder\n",
    "from sklearn.model_selection import train_test_split\n",
    "\n",
    "# 데이터 불러오기\n",
    "file_path = \"data/generated_meal_plan.csv\"\n",
    "df = pd.read_csv(file_path)\n",
    "\n",
    "# 필요 없는 열 제거\n",
    "df = df.drop(columns=[\"아침\", \"점심\", \"저녁\"])\n",
    "\n",
    "# 범주형 변수 변환\n",
    "label_encoders = {}\n",
    "for col in [\"성별\", \"체형\", \"목표\"]:\n",
    "    le = LabelEncoder()\n",
    "    df[col] = le.fit_transform(df[col])\n",
    "    label_encoders[col] = le  \n",
    "\n",
    "# 입력(X)과 출력(y) 분리\n",
    "X = df[[\"성별\", \"체형\", \"목표\"]]\n",
    "y = df[[\"총 칼로리\", \"탄수화물\", \"단백질\", \"지방\"]]\n",
    "\n",
    "# 데이터 분할\n",
    "X_train, X_test, y_train, y_test = train_test_split(X, y, test_size=0.2, random_state=42)\n",
    "\n",
    "X_train = X_train.fillna(X_train.mean())  \n",
    "X_test = X_test.fillna(X_test.mean())\n",
    "y_train = y_train.fillna(y_train.mean())\n",
    "y_test = y_test.fillna(y_test.mean())\n",
    "\n",
    "# 최적의 하이퍼파라미터 적용\n",
    "best_params = {'subsample': 1.0, 'n_estimators': 100, 'max_depth': 2, 'learning_rate': 0.03}\n",
    "\n",
    "# 최적의 파라미터로 모델 학습\n",
    "best_model = xgb.XGBRegressor(objective=\"reg:squarederror\", **best_params)\n",
    "best_model.fit(X_train, y_train)\n",
    "\n",
    "# 예측 수행\n",
    "y_pred = best_model.predict(X_test)\n",
    "\n",
    "# 평가 (MAE)\n",
    "mae = mean_absolute_error(y_test, y_pred)\n",
    "print(f\"최적 모델 학습 완료! 평균 절대 오차 (MAE): {mae:.2f}\")\n",
    "\n",
    "# 최적 모델 저장\n",
    "joblib.dump(best_model, \"xgboost_meal_plan_best.pkl\")"
   ]
  },
  {
   "cell_type": "markdown",
   "id": "22429260-018d-4dc3-8cec-c42a71639ae4",
   "metadata": {},
   "source": [
    "# 모델 사용"
   ]
  },
  {
   "cell_type": "code",
   "execution_count": 46,
   "id": "df82eabb-1664-49d2-8f59-bd6aec0253d6",
   "metadata": {},
   "outputs": [
    {
     "name": "stdout",
     "output_type": "stream",
     "text": [
      "📢 예측 결과:\n",
      "   🔹 총 섭취 칼로리: 1113.88 kcal\n",
      "   🔹 탄수화물: 140.41 g\n",
      "   🔹 단백질: 74.50 g\n",
      "   🔹 지방: 95.57 g\n",
      "\n",
      "🍽 추천 식단:\n",
      "   🍴 아침: 갈비찜, 소면, 랍스타\n",
      "   🍴 점심: 쌀국수, 숙주나물, 통밀빵\n",
      "   🍴 저녁: 양파샐러드, 시금치, 가츠동\n"
     ]
    }
   ],
   "source": [
    "import joblib\n",
    "import numpy as np\n",
    "\n",
    "# 저장된 모델 불러오기\n",
    "model = joblib.load(\"xgboost_meal_plan_best.pkl\")\n",
    "\n",
    "# ✅ 새로운 입력 데이터 (예제: 성별, 체형, 목표)\n",
    "new_data = np.array([[0, 0, 1]])  # 예: 성별(1), 체형(3), 목표(2)\n",
    "\n",
    "# ✅ 예측\n",
    "prediction = model.predict(new_data)\n",
    "prediction_values = prediction[0]  # 첫 번째 행 추출\n",
    "\n",
    "# ✅ 예측 결과 출력\n",
    "print(f\"📢 예측 결과:\")\n",
    "print(f\"   🔹 총 섭취 칼로리: {prediction_values[0]:.2f} kcal\")\n",
    "print(f\"   🔹 탄수화물: {prediction_values[1]:.2f} g\")\n",
    "print(f\"   🔹 단백질: {prediction_values[2]:.2f} g\")\n",
    "print(f\"   🔹 지방: {prediction_values[3]:.2f} g\")\n",
    "\n",
    "# ✅ 아침, 점심, 저녁 비율 나누기 (아침 30%, 점심 40%, 저녁 30%)\n",
    "meal_ratios = {\"아침\": 0.3, \"점심\": 0.4, \"저녁\": 0.3}\n",
    "meal_plan = {}\n",
    "\n",
    "# ✅ 식품 데이터 불러오기 (예: food_nutrients.csv)\n",
    "food_data = pd.read_csv(\"data/food_nutrition_data.csv\")  # 음식 데이터 로드\n",
    "\n",
    "# ✅ 식단 구성 (각 끼니별 추천)\n",
    "for meal, ratio in meal_ratios.items():\n",
    "    target_calories = prediction_values[0] * ratio  # 해당 끼니의 목표 칼로리\n",
    "    \n",
    "    # ✅ 조건을 만족하는 음식 필터링\n",
    "    filtered_foods = food_data[food_data[\"칼로리\"] <= target_calories]\n",
    "\n",
    "    if len(filtered_foods) >= 3:\n",
    "        # ✅ 조건을 만족하는 음식이 3개 이상이면 랜덤 3개 선택\n",
    "        recommended_foods = filtered_foods.sample(n=3)\n",
    "    elif len(filtered_foods) > 0:\n",
    "        # ✅ 조건을 만족하는 음식이 1~2개면, 가능한 개수만큼만 선택\n",
    "        recommended_foods = filtered_foods.sample(n=len(filtered_foods))\n",
    "    else:\n",
    "        # ✅ 조건을 만족하는 음식이 없으면, 전체 데이터에서 랜덤 3개 선택 (대체 추천)\n",
    "        recommended_foods = food_data.sample(n=3)\n",
    "\n",
    "    meal_plan[meal] = recommended_foods[\"식품명(한글)\"].tolist()\n",
    "\n",
    "# ✅ 최종 식단 출력\n",
    "print(\"\\n🍽 추천 식단:\")\n",
    "for meal, foods in meal_plan.items():\n",
    "    print(f\"   🍴 {meal}: {', '.join(foods)}\")\n"
   ]
  },
  {
   "cell_type": "code",
   "execution_count": 48,
   "id": "265a3e8f-b3dd-49e8-8c4e-dc147e31ac59",
   "metadata": {},
   "outputs": [
    {
     "name": "stdin",
     "output_type": "stream",
     "text": [
      "성별을 입력하세요 (남성/여성):  남성\n",
      "체형을 입력하세요 (사과형/배형/모래시계형/엉덩이형/상체형/하체형/표준체형):  사과형\n",
      "목표를 입력하세요 (diet/maintain/gain):  diet\n"
     ]
    },
    {
     "name": "stdout",
     "output_type": "stream",
     "text": [
      "\n",
      "===== 예측 결과 =====\n",
      "총 섭취 칼로리: 1217.55 kcal\n",
      "탄수화물: 62.46 g\n",
      "단백질: 81.80 g\n",
      "지방: 68.21 g\n",
      "\n",
      "===== 추천 식단 =====\n",
      "\n",
      "아침:\n",
      "- 모듬회 (1회 섭취량: 100g, 칼로리: 146.0kcal, 탄: 0.0g, 단: 21.62g, 지: 5.93g)\n",
      "- 알로에주스 (1회 섭취량: 100g, 칼로리: 53.0kcal, 탄: 12.87g, 단: 0.36g, 지: 0.12g)\n",
      "- 왕만두 (1회 섭취량: 586g, 칼로리: 234.0kcal, 탄: 14.71g, 단: 13.65g, 지: 13.42g)\n",
      "- 파프리카빨강 (1회 섭취량: 100g, 칼로리: 289.0kcal, 탄: 55.74g, 단: 14.76g, 지: 12.95g)\n",
      "- 스파게티면 (1회 섭취량: 101g, 칼로리: 158.0kcal, 탄: 30.86g, 단: 5.8g, 지: 0.93g)\n",
      "- 딤섬 (1회 섭취량: 1 dumpling, 칼로리: 50.0kcal, 탄: 1.0g, 단: 3.0g, 지: 1.0g)\n",
      "\n",
      "점심:\n",
      "- 콜라비 (1회 섭취량: 1 tbsp, 칼로리: 3.0kcal, 탄: 0.0g, 단: 0.0g, 지: 0.0g)\n",
      "- 고추장 (1회 섭취량: 200g, 칼로리: 80.0kcal, 탄: 18.28g, 단: 3.88g, 지: 0.64g)\n",
      "- 껌 (1회 섭취량: 100g, 칼로리: 268.0kcal, 탄: 94.8g, 단: 0.0g, 지: 0.4g)\n",
      "- 고춧가루 (1회 섭취량: 1 tsp, 칼로리: 15.0kcal, 탄: 2.0g, 단: 1.0g, 지: 0.5g)\n",
      "- 닭고기 (1회 섭취량: 101g, 칼로리: 197.0kcal, 탄: 0.0g, 단: 29.8g, 지: 7.79g)\n",
      "- 비엔나소시지 (1회 섭취량: 1 tbsp, 칼로리: 15.0kcal, 탄: 1.0g, 단: 0.0g, 지: 1.0g)\n",
      "\n",
      "저녁:\n",
      "- 보쌈 (1회 섭취량: 1 bottle, 칼로리: 130.0kcal, 탄: 33.0g, 단: 0.0g, 지: 0.0g)\n",
      "- 아이스티 (1회 섭취량: 338g, 칼로리: 3.0kcal, 탄: 0.95g, 단: 0.03g, 지: 0.0g)\n",
      "- 양배추 (1회 섭취량: 100g, 칼로리: 24.0kcal, 탄: 5.58g, 단: 1.44g, 지: 0.12g)\n",
      "- 잣 (1회 섭취량: 3 tbsp, 칼로리: 200.0kcal, 탄: 6.0g, 단: 5.0g, 지: 17.0g)\n",
      "- 봉골레파스타 (1회 섭취량: 100g, 칼로리: 264.0kcal, 탄: 38.0g, 단: 2.4g, 지: 12.5g)\n",
      "- 레몬 (1회 섭취량: 100g, 칼로리: 29.0kcal, 탄: 9.32g, 단: 1.1g, 지: 0.3g)\n"
     ]
    }
   ],
   "source": [
    "# ✅ 사용자 입력 받기\n",
    "gender_input = input(\"성별을 입력하세요 (남성/여성): \")\n",
    "body_shape_input = input(\"체형을 입력하세요 (사과형/배형/모래시계형/엉덩이형/상체형/하체형/표준체형): \")\n",
    "goal_input = input(\"목표를 입력하세요 (diet/maintain/gain): \")\n",
    "\n",
    "# ✅ 입력값을 숫자로 변환 (모델 입력 형식 맞추기)\n",
    "gender_map = {\"남성\": 1, \"여성\": 2}\n",
    "body_shape_map = {\"사과형\": 1, \"배형\": 2, \"모래시계형\": 3, \"엉덩이형\": 4, \"상체형\": 5, \"하체형\": 6, \"표준체형\": 7}\n",
    "goal_map = {\"diet\": 1, \"maintain\": 2, \"gain\": 3}\n",
    "\n",
    "gender = gender_map.get(gender_input, 2)  # 기본값: 여성\n",
    "body_shape = body_shape_map.get(body_shape_input, 7)  # 기본값: 표준체형\n",
    "goal = goal_map.get(goal_input, 2)  # 기본값: 유지(maintain)\n",
    "\n",
    "# ✅ 저장된 모델 불러오기\n",
    "model = joblib.load(\"xgboost_meal_plan.pkl\")\n",
    "\n",
    "# ✅ 예측 수행\n",
    "new_data = np.array([[gender, body_shape, goal]])\n",
    "prediction = model.predict(new_data)\n",
    "prediction_values = prediction[0]  # 첫 번째 행 추출\n",
    "\n",
    "# ✅ 예측 결과 출력\n",
    "print(\"\\n===== 예측 결과 =====\")\n",
    "print(f\"총 섭취 칼로리: {prediction_values[0]:.2f} kcal\")\n",
    "print(f\"탄수화물: {prediction_values[1]:.2f} g\")\n",
    "print(f\"단백질: {prediction_values[2]:.2f} g\")\n",
    "print(f\"지방: {prediction_values[3]:.2f} g\")\n",
    "\n",
    "# ✅ 식품 데이터 불러오기 (food_nutrients.csv)\n",
    "food_data = pd.read_csv(\"data/food_nutrition_data.csv\")\n",
    "\n",
    "# ✅ 끼니별 칼로리 비율 설정\n",
    "meal_ratios = {\"아침\": 0.3, \"점심\": 0.4, \"저녁\": 0.3}\n",
    "meal_plan = {}\n",
    "\n",
    "# ✅ 식단 구성\n",
    "for meal, ratio in meal_ratios.items():\n",
    "    target_calories = prediction_values[0] * ratio  # 끼니별 목표 칼로리\n",
    "    filtered_foods = food_data[food_data[\"칼로리\"] <= target_calories]  # 칼로리 기준 필터링\n",
    "\n",
    "    if len(filtered_foods) >= 6:\n",
    "        recommended_foods = filtered_foods.sample(n=6)  # ✅ 랜덤 6개 선택\n",
    "    elif len(filtered_foods) > 0:\n",
    "        recommended_foods = filtered_foods.sample(n=len(filtered_foods))  # ✅ 가능한 개수만큼만 선택\n",
    "    else:\n",
    "        recommended_foods = food_data.sample(n=6)  # ✅ 조건 충족 음식 없으면 전체에서 랜덤 선택\n",
    "\n",
    "    meal_plan[meal] = recommended_foods\n",
    "\n",
    "# ✅ 최종 식단 출력\n",
    "print(\"\\n===== 추천 식단 =====\")\n",
    "for meal, foods in meal_plan.items():\n",
    "    print(f\"\\n{meal}:\")\n",
    "    for _, row in foods.iterrows():\n",
    "        print(f\"- {row['식품명(한글)']} (1회 섭취량: {row['1회 섭취량']}, 칼로리: {row['칼로리']}kcal, 탄: {row['탄수화물']}g, 단: {row['단백질']}g, 지: {row['지방']}g)\")"
   ]
  },
  {
   "cell_type": "code",
   "execution_count": 49,
   "id": "9f0e7086-3da9-4e85-a40c-ce0cb49e4071",
   "metadata": {},
   "outputs": [
    {
     "name": "stdout",
     "output_type": "stream",
     "text": [
      "MSE: 196704.97670730948\n"
     ]
    }
   ],
   "source": [
    "import numpy as np\n",
    "from sklearn.model_selection import cross_val_score\n",
    "\n",
    "scores = cross_val_score(model, X_train, y_train, cv=5, scoring=\"neg_mean_squared_error\")\n",
    "mse_score = np.abs(scores.mean())  # 절댓값 변환\n",
    "print(\"MSE:\", mse_score)  \n"
   ]
  },
  {
   "cell_type": "code",
   "execution_count": null,
   "id": "4a52b392-b322-4cbf-9d15-74c0c85425f7",
   "metadata": {},
   "outputs": [],
   "source": []
  }
 ],
 "metadata": {
  "kernelspec": {
   "display_name": "Python 3 (ipykernel)",
   "language": "python",
   "name": "python3"
  },
  "language_info": {
   "codemirror_mode": {
    "name": "ipython",
    "version": 3
   },
   "file_extension": ".py",
   "mimetype": "text/x-python",
   "name": "python",
   "nbconvert_exporter": "python",
   "pygments_lexer": "ipython3",
   "version": "3.8.20"
  },
  "widgets": {
   "application/vnd.jupyter.widget-state+json": {
    "state": {},
    "version_major": 2,
    "version_minor": 0
   }
  }
 },
 "nbformat": 4,
 "nbformat_minor": 5
}
